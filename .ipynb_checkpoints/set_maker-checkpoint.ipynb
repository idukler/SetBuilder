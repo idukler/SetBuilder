{
 "cells": [
  {
   "cell_type": "code",
   "execution_count": 31,
   "id": "b61c2272",
   "metadata": {},
   "outputs": [],
   "source": [
    "import random"
   ]
  },
  {
   "cell_type": "code",
   "execution_count": null,
   "id": "6623c9a9",
   "metadata": {},
   "outputs": [],
   "source": [
    "# # maybe want to seed it...not necessary though\n",
    "# random = random.seed(10);"
   ]
  },
  {
   "cell_type": "code",
   "execution_count": null,
   "id": "9602c8eb",
   "metadata": {},
   "outputs": [],
   "source": [
    "# create a 4-tuple based on the following conditions\n",
    "#     (color, number, shading, shape)\n",
    "\n",
    "#     color: 0 : \"red\"\n",
    "#            1 : \"green\"\n",
    "#            2 : \"blue\"\n",
    "\n",
    "#     number: 0 : 1\n",
    "#             1 : 2\n",
    "#             2 : 3\n",
    "\n",
    "#     shading: 0 : \"empty\"\n",
    "#              1 : \"shaded\"\n",
    "#              2 : \"full\"\n",
    "\n",
    "#     shape: 0 : \"diamond\"\n",
    "#            1 : \"wave\"\n",
    "#            2 : \"ellipse\""
   ]
  },
  {
   "cell_type": "code",
   "execution_count": 32,
   "id": "5fbf661d",
   "metadata": {},
   "outputs": [],
   "source": [
    "# creates all combos of cards\n",
    "# \n",
    "# @return set of all 81 cards in the game set\n",
    "\n",
    "def create_cards():\n",
    "    cards = []\n",
    "    for i in range(3):\n",
    "        for j in range(3):\n",
    "            for k in range(3):\n",
    "                for l in range(3):\n",
    "                    tuple = (i,j,k,l)\n",
    "                    cards.append((i,j,k,l))\n",
    "    return cards"
   ]
  },
  {
   "cell_type": "code",
   "execution_count": 288,
   "id": "646e0d97",
   "metadata": {},
   "outputs": [],
   "source": [
    "# create random arrangements of 12 card layouts\n",
    "#\n",
    "# @param cards : the full set of cards in the deck\n",
    "# @return random random 12 card layout\n",
    "\n",
    "def random_12(cards):\n",
    "    layout = []\n",
    "    indices = random.sample(range(0,81), 12)\n",
    "    for i in range(len(indices)):\n",
    "        # 81 possible combos\n",
    "        layout.append(cards[indices[i]])\n",
    "    return layout"
   ]
  },
  {
   "cell_type": "code",
   "execution_count": 289,
   "id": "7358b7a7",
   "metadata": {},
   "outputs": [],
   "source": [
    "# from a given layout provide all the \n",
    "# combinations of possible three card\n",
    "# sets ... 12 C 3 = 220 of these\n",
    "#\n",
    "# @param layout : random 12 card layout\n",
    "# @return possible_sets : all possible three card sets from the layout\n",
    "\n",
    "\n",
    "# will be slow at first.. figure out how to make fast later\n",
    "def create_sets(layout):\n",
    "    sets = []\n",
    "    # for every possible set in the deck\n",
    "    for i in range(len(layout)):\n",
    "        for j in range(len(layout)):\n",
    "            for k in range(len(layout)):\n",
    "                new_set = frozenset([layout[i], layout[j], layout[k]])\n",
    "                # if there are no duplicates in the set (3 unique cards)\n",
    "                if len(new_set) == 3:\n",
    "                    sets.append(new_set)   \n",
    "                \n",
    "    return frozenset(sets)"
   ]
  },
  {
   "cell_type": "code",
   "execution_count": 403,
   "id": "a16861a8",
   "metadata": {},
   "outputs": [],
   "source": [
    "# check if a(some) set(s) exists in the layout\n",
    "# a set is valid if for any of its features,\n",
    "# they are either all different or all the same\n",
    "#\n",
    "# @param sets : all possible unique sets in the layout (220 of them)\n",
    "# @return set of sets which are valid\n",
    "def set_checker(sets):\n",
    "    # each of the 220 sets\n",
    "    good_sets = []\n",
    "    for single_set in sets:\n",
    "        color = []\n",
    "        number = []\n",
    "        shading = []\n",
    "        shape = []\n",
    "        \n",
    "        # for each card\n",
    "        for card in single_set:\n",
    "            # add the features of the card\n",
    "            # to the corresponding array\n",
    "            color.append(card[0])\n",
    "            number.append(card[1])\n",
    "            shading.append(card[2])\n",
    "            shape.append(card[3])\n",
    "\n",
    "        # take frozenset of each and if \n",
    "        # each is either size 1 or size 3\n",
    "        # then you are good and return the set\n",
    "        if (len(frozenset(color)) in (1,3)) and (len(frozenset(number)) in (1,3)) and (len(frozenset(shading)) in (1,3)) and (len(frozenset(shape)) in (1,3)):\n",
    "            good_sets.append(single_set)\n",
    "        \n",
    "        # if not, go to the next set\n",
    "        else:\n",
    "            continue\n",
    "    return good_sets"
   ]
  },
  {
   "cell_type": "code",
   "execution_count": 428,
   "id": "43a69242",
   "metadata": {},
   "outputs": [],
   "source": [
    "cards = create_cards()"
   ]
  },
  {
   "cell_type": "code",
   "execution_count": 454,
   "id": "7d0ff374",
   "metadata": {},
   "outputs": [
    {
     "name": "stdout",
     "output_type": "stream",
     "text": [
      "[(0, 0, 0, 0), (0, 2, 0, 0), (2, 1, 2, 2), (1, 0, 2, 1), (0, 2, 0, 1), (2, 2, 1, 1), (1, 0, 1, 1), (2, 1, 1, 0), (0, 1, 0, 0), (2, 1, 2, 0), (2, 0, 2, 2), (1, 1, 2, 2)]\n",
      "\n",
      "\n",
      "[frozenset({(0, 2, 0, 0), (2, 1, 2, 2), (1, 0, 1, 1)}), frozenset({(1, 1, 2, 2), (2, 2, 1, 1), (0, 0, 0, 0)}), frozenset({(2, 0, 2, 2), (0, 0, 0, 0), (1, 0, 1, 1)}), frozenset({(0, 1, 0, 0), (0, 2, 0, 0), (0, 0, 0, 0)})]\n"
     ]
    }
   ],
   "source": [
    "layout = random_12(cards)\n",
    "print(layout)\n",
    "sets = create_sets(layout)\n",
    "good_sets = set_checker(sets)\n",
    "print(\"\\n\")\n",
    "print(good_sets)"
   ]
  },
  {
   "cell_type": "code",
   "execution_count": null,
   "id": "3a390c7f",
   "metadata": {},
   "outputs": [],
   "source": [
    "# random_12 could you make random_n?\n",
    "# random_n and check if it has a set?\n",
    "# 10K runs and count the sets\n",
    "# then visualize the result\n",
    "\n",
    "# visualize a deck\n",
    "\n",
    "# numpy is fast\n",
    "\n"
   ]
  },
  {
   "cell_type": "code",
   "execution_count": null,
   "id": "8ddb047d",
   "metadata": {},
   "outputs": [],
   "source": [
    "# A (0, 2, 0, 0), B (2, 1, 2, 2), C (1, 0, 1, 1)\n",
    "# B-A = (2, 2, 2, 2)\n",
    "# B- C = (1, 1, 1, 1)\n",
    "# "
   ]
  },
  {
   "cell_type": "code",
   "execution_count": null,
   "id": "93fc0b6e",
   "metadata": {},
   "outputs": [],
   "source": [
    "# A (0, 1, 0, 0), B (0, 2, 0, 0), C (0, 0, 0, 0)\n",
    "\n",
    "# (2,1, 0, 0)\n",
    "# (1, 2, 0,0)\n",
    "\n",
    "# select 3 things \n",
    "12^ 3\n",
    "\n",
    "\n"
   ]
  },
  {
   "cell_type": "code",
   "execution_count": 458,
   "id": "2481a80d",
   "metadata": {},
   "outputs": [],
   "source": [
    "import numpy as np\n",
    "A = np.random.randint(low=0, high=2, size=(12,4))"
   ]
  },
  {
   "cell_type": "code",
   "execution_count": 460,
   "id": "12e78156",
   "metadata": {},
   "outputs": [
    {
     "data": {
      "text/plain": [
       "(12, 4)"
      ]
     },
     "execution_count": 460,
     "metadata": {},
     "output_type": "execute_result"
    }
   ],
   "source": [
    "A.shape \n",
    "10k, 12, 4"
   ]
  },
  {
   "cell_type": "code",
   "execution_count": 463,
   "id": "39b9b630",
   "metadata": {},
   "outputs": [
    {
     "data": {
      "text/plain": [
       "(12, 12, 12, 4)"
      ]
     },
     "execution_count": 463,
     "metadata": {},
     "output_type": "execute_result"
    }
   ],
   "source": [
    "A1 = A.reshape(12, 1, 1, 4) # broadcasting look into it\n",
    "A2 = A.reshape(1, 12, 1, 4)\n",
    "A3 = A.reshape(1, 1, 12, 4)\n",
    "\n",
    "(A1 + A2 + A3).shape"
   ]
  },
  {
   "cell_type": "code",
   "execution_count": 472,
   "id": "582da2de",
   "metadata": {},
   "outputs": [],
   "source": [
    "R = A1 + A2 + A3\n",
    "R = R % 3"
   ]
  },
  {
   "cell_type": "code",
   "execution_count": 476,
   "id": "1558dfd0",
   "metadata": {},
   "outputs": [
    {
     "data": {
      "text/plain": [
       "18"
      ]
     },
     "execution_count": 476,
     "metadata": {},
     "output_type": "execute_result"
    }
   ],
   "source": [
    "(R == 0 ).all(axis=-1).sum() - 12"
   ]
  },
  {
   "cell_type": "code",
   "execution_count": null,
   "id": "8b99adcf",
   "metadata": {},
   "outputs": [],
   "source": []
  }
 ],
 "metadata": {
  "kernelspec": {
   "display_name": "Python 3 (ipykernel)",
   "language": "python",
   "name": "python3"
  },
  "language_info": {
   "codemirror_mode": {
    "name": "ipython",
    "version": 3
   },
   "file_extension": ".py",
   "mimetype": "text/x-python",
   "name": "python",
   "nbconvert_exporter": "python",
   "pygments_lexer": "ipython3",
   "version": "3.8.12"
  }
 },
 "nbformat": 4,
 "nbformat_minor": 5
}
